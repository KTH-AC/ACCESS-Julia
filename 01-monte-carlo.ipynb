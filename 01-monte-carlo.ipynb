{
 "cells": [
  {
   "cell_type": "markdown",
   "metadata": {},
   "source": [
    "## Monte Carlo Simulations\n",
    "\n",
    "Parallelization tips on this notebook are borrowed from Julia's [documentation](http://docs.julialang.org/en/stable/manual/parallel-computing/).\n",
    "\n",
    "### A Small Example\n",
    "\n",
    "Let's try to simulate\n",
    "\n",
    "\\begin{align*}\n",
    "  \\begin{aligned}\n",
    "    x_{k+1} = \\begin{bmatrix}\n",
    "      0.5 & 0 \\\\\n",
    "      0 & 1.5\n",
    "    \\end{bmatrix} x_{k} + \\begin{bmatrix}\n",
    "      1 \\\\ 1\n",
    "    \\end{bmatrix} u_{k} + n_{k} \\,,\n",
    "  \\end{aligned}\n",
    "\\end{align*}\n",
    "\n",
    "with the controller $u_{k} = \\begin{bmatrix}0.16 & -1.96\\end{bmatrix} x_{k}$ and standard, normal noise $n_{k}$.\n",
    "\n",
    "### Writing the Functions\n",
    "\n",
    "Since Julia is a JIT-compiled language, writing a function is almost always beneficial (for efficiency purposes).\n",
    "\n",
    "#### Get Some Workers\n",
    "\n",
    "First, let's allocate some workers for our jobs."
   ]
  },
  {
   "cell_type": "code",
   "execution_count": 1,
   "metadata": {
    "collapsed": false
   },
   "outputs": [
    {
     "data": {
      "text/plain": [
       "3-element Array{Int64,1}:\n",
       " 2\n",
       " 3\n",
       " 4"
      ]
     },
     "execution_count": 1,
     "metadata": {},
     "output_type": "execute_result"
    }
   ],
   "source": [
    "addprocs(3) # Add 3 workers"
   ]
  },
  {
   "cell_type": "markdown",
   "metadata": {},
   "source": [
    "#### The Kernel\n",
    "\n",
    "This is the main function to do the computations."
   ]
  },
  {
   "cell_type": "code",
   "execution_count": 2,
   "metadata": {
    "collapsed": false
   },
   "outputs": [],
   "source": [
    "@everywhere function simulate_kernel!(x, range; x₀ = zeros(2))\n",
    "    A = [0.5 0; 0 1.5]\n",
    "    B = [1; 1]\n",
    "    K = [0.16 -1.96]\n",
    "    Ã = A + B*K\n",
    "    @show range\n",
    "    for n in range\n",
    "        x[:,1,n] = x₀\n",
    "        for k in 2:size(x,2)\n",
    "            x[:,k,n] = Ã*x[:,k-1,n] + randn(2)\n",
    "        end\n",
    "    end\n",
    "    x\n",
    "end"
   ]
  },
  {
   "cell_type": "markdown",
   "metadata": {},
   "source": [
    "#### Serial Implementation\n",
    "\n",
    "Serial implementation just does all the computations in the kernel, serially."
   ]
  },
  {
   "cell_type": "code",
   "execution_count": 3,
   "metadata": {
    "collapsed": false
   },
   "outputs": [
    {
     "data": {
      "text/plain": [
       "simulate_serial! (generic function with 1 method)"
      ]
     },
     "execution_count": 3,
     "metadata": {},
     "output_type": "execute_result"
    }
   ],
   "source": [
    "simulate_serial!(x; x₀ = zeros(2)) = simulate_kernel!(x, indices(x,3); x₀ = x₀)"
   ]
  },
  {
   "cell_type": "markdown",
   "metadata": {},
   "source": [
    "#### Parallel Implementation\n",
    "\n",
    "Parallel implementation has a small change in the outermost for loop --- `@sync` and `@parallel` macro."
   ]
  },
  {
   "cell_type": "code",
   "execution_count": 4,
   "metadata": {
    "collapsed": false
   },
   "outputs": [
    {
     "data": {
      "text/plain": [
       "simulate_parallel! (generic function with 1 method)"
      ]
     },
     "execution_count": 4,
     "metadata": {},
     "output_type": "execute_result"
    }
   ],
   "source": [
    "function simulate_parallel!(x; x₀ = zeros(2))\n",
    "    A = [0.5 0; 0 1.5]\n",
    "    B = [1; 1]\n",
    "    K = [0.16 -1.96]\n",
    "    Ã = A + B*K\n",
    "    @sync @parallel for n in indices(x,3)\n",
    "        x[:,1,n] = x₀\n",
    "        for k in 2:size(x,2)\n",
    "            x[:,k,n] = Ã*x[:,k-1,n] + randn(2)\n",
    "        end\n",
    "    end\n",
    "    x\n",
    "end"
   ]
  },
  {
   "cell_type": "markdown",
   "metadata": {},
   "source": [
    "#### Benchmark\n",
    "\n",
    "Let's do some benchmarking.\n",
    "\n",
    "Serial implementation first."
   ]
  },
  {
   "cell_type": "code",
   "execution_count": 5,
   "metadata": {
    "collapsed": false
   },
   "outputs": [
    {
     "name": "stdout",
     "output_type": "stream",
     "text": [
      "range = Base.OneTo(10000)\n",
      "range = Base.OneTo(10000)\n",
      "  0.703533 seconds (9.82 M allocations: 467.279 MB, 7.00% gc time)\n"
     ]
    }
   ],
   "source": [
    "N = 10000 # Monte Carlo simulations\n",
    "x = zeros(2,100,N)\n",
    "\n",
    "simulate_serial!(x; x₀ = [50; 100]); # run once to compile the code, first\n",
    "\n",
    "@time simulate_serial!(x; x₀ = [50; 100]);"
   ]
  },
  {
   "cell_type": "code",
   "execution_count": null,
   "metadata": {
    "collapsed": false
   },
   "outputs": [],
   "source": [
    "x[:,:,1]"
   ]
  },
  {
   "cell_type": "code",
   "execution_count": null,
   "metadata": {
    "collapsed": false
   },
   "outputs": [],
   "source": [
    "x[:,:,2]"
   ]
  },
  {
   "cell_type": "code",
   "execution_count": 8,
   "metadata": {
    "collapsed": false
   },
   "outputs": [
    {
     "name": "stdout",
     "output_type": "stream",
     "text": [
      "  0.367858 seconds (931 allocations: 42.313 KB)\n"
     ]
    }
   ],
   "source": [
    "x = zeros(2,100,N)\n",
    "\n",
    "simulate_parallel!(x; x₀ = [50; 100]);\n",
    "\n",
    "@time simulate_parallel!(x; x₀ = [50; 100]);"
   ]
  },
  {
   "cell_type": "code",
   "execution_count": null,
   "metadata": {
    "collapsed": false
   },
   "outputs": [],
   "source": [
    "x[:,:,1]"
   ]
  },
  {
   "cell_type": "code",
   "execution_count": null,
   "metadata": {
    "collapsed": false
   },
   "outputs": [],
   "source": [
    "x[:,:,2]"
   ]
  },
  {
   "cell_type": "code",
   "execution_count": 11,
   "metadata": {
    "collapsed": false
   },
   "outputs": [
    {
     "name": "stdout",
     "output_type": "stream",
     "text": [
      "  0.294646 seconds (1.53 k allocations: 55.622 KB)\n"
     ]
    }
   ],
   "source": [
    "x = SharedArray(Float64, (2,100,N))\n",
    "\n",
    "simulate_parallel!(x; x₀ = [50; 100])\n",
    "\n",
    "@time simulate_parallel!(x; x₀ = [50; 100]);"
   ]
  },
  {
   "cell_type": "code",
   "execution_count": null,
   "metadata": {
    "collapsed": false
   },
   "outputs": [],
   "source": [
    "x[:,:,1]"
   ]
  },
  {
   "cell_type": "code",
   "execution_count": null,
   "metadata": {
    "collapsed": false
   },
   "outputs": [],
   "source": [
    "x[:,:,2]"
   ]
  },
  {
   "cell_type": "markdown",
   "metadata": {},
   "source": [
    "#### Manual Parallelization\n",
    "\n",
    "One can also parallelize the computations manually, having a linear, balanced distribution of the work."
   ]
  },
  {
   "cell_type": "code",
   "execution_count": 14,
   "metadata": {
    "collapsed": false
   },
   "outputs": [],
   "source": [
    "@everywhere function mychunk(q::SharedArray)\n",
    "    idx = indexpids(q)\n",
    "    idx == 0 && return 1:0 # master does not have any work\n",
    "    nchunks = length(procs(q))\n",
    "    splits = [round(Int,s) for s in linspace(0, size(q,3), nchunks + 1)]\n",
    "    return splits[idx]+1:splits[idx+1]\n",
    "end"
   ]
  },
  {
   "cell_type": "code",
   "execution_count": 15,
   "metadata": {
    "collapsed": true
   },
   "outputs": [],
   "source": [
    "@everywhere simulate_job!(x; x₀ = zeros(2)) = simulate_kernel!(x, mychunk(x); x₀ = x₀)"
   ]
  },
  {
   "cell_type": "code",
   "execution_count": 16,
   "metadata": {
    "collapsed": false
   },
   "outputs": [
    {
     "data": {
      "text/plain": [
       "simulate_shared! (generic function with 1 method)"
      ]
     },
     "execution_count": 16,
     "metadata": {},
     "output_type": "execute_result"
    }
   ],
   "source": [
    "function simulate_shared!(x; x₀ = zeros(2))\n",
    "    @sync for p in procs(x)\n",
    "        @async remotecall_wait(simulate_job!, p, x; x₀ = x₀)\n",
    "    end\n",
    "end"
   ]
  },
  {
   "cell_type": "code",
   "execution_count": 17,
   "metadata": {
    "collapsed": false
   },
   "outputs": [
    {
     "name": "stdout",
     "output_type": "stream",
     "text": [
      "\tFrom worker 3:\trange = 3334:6667\n",
      "\tFrom worker 4:\trange = 6668:10000\n",
      "\tFrom worker 2:\trange = 1:3333\n",
      "\tFrom worker 2:\trange = 1:3333\n",
      "\tFrom worker 3:\trange = 3334:6667\n",
      "\tFrom worker 4:\trange = 6668:10000\n",
      "  0.293813 seconds (890 allocations: 79.375 KB)\n"
     ]
    }
   ],
   "source": [
    "x = SharedArray(Float64, (2,100,N))\n",
    "\n",
    "simulate_shared!(x; x₀ = [50; 100])\n",
    "\n",
    "@time simulate_shared!(x; x₀ = [50; 100])"
   ]
  },
  {
   "cell_type": "code",
   "execution_count": null,
   "metadata": {
    "collapsed": false
   },
   "outputs": [],
   "source": [
    "x[:,:,1]"
   ]
  },
  {
   "cell_type": "code",
   "execution_count": null,
   "metadata": {
    "collapsed": false
   },
   "outputs": [],
   "source": [
    "x[:,:,2]"
   ]
  },
  {
   "cell_type": "markdown",
   "metadata": {},
   "source": [
    "### Saving the Data\n",
    "\n",
    "Data can be saved in binary format (preferred way due to precision) or in delimited (plain) text format.\n",
    "\n",
    "#### Binary Format"
   ]
  },
  {
   "cell_type": "code",
   "execution_count": 20,
   "metadata": {
    "collapsed": false
   },
   "outputs": [
    {
     "data": {
      "text/plain": [
       "16000000"
      ]
     },
     "execution_count": 20,
     "metadata": {},
     "output_type": "execute_result"
    }
   ],
   "source": [
    "write(\"results-$(size(x,1))-$(size(x,2))-$(size(x,3)).dat\", x)"
   ]
  },
  {
   "cell_type": "code",
   "execution_count": 21,
   "metadata": {
    "collapsed": false
   },
   "outputs": [],
   "source": [
    "y = read(\"results-2-100-10000.dat\", Float64, (2,100,10000));"
   ]
  },
  {
   "cell_type": "code",
   "execution_count": 22,
   "metadata": {
    "collapsed": false
   },
   "outputs": [
    {
     "data": {
      "text/plain": [
       "true"
      ]
     },
     "execution_count": 22,
     "metadata": {},
     "output_type": "execute_result"
    }
   ],
   "source": [
    "y[:,:,1] == x[:,:,1]"
   ]
  },
  {
   "cell_type": "markdown",
   "metadata": {},
   "source": [
    "#### Plain Text Format"
   ]
  },
  {
   "cell_type": "code",
   "execution_count": 23,
   "metadata": {
    "collapsed": true
   },
   "outputs": [],
   "source": [
    "open(\"results-$(size(x,1))-$(size(x,2))-$(size(x,3)).csv\", \"w\") do io\n",
    "    n, m, k = size(x)\n",
    "    \n",
    "    x̄ = transpose(reshape(mean(x, 3), n, m))\n",
    "    x̃ = transpose(reshape(var(x, 3), n, m))\n",
    "    \n",
    "    header = [\"x_1_m\" \"x_2_m\" \"x_1_v\" \"x_2_v\"]\n",
    "    \n",
    "    writecsv(io, [header; [x̄ x̃]])\n",
    "end"
   ]
  },
  {
   "cell_type": "code",
   "execution_count": 24,
   "metadata": {
    "collapsed": false
   },
   "outputs": [],
   "source": [
    "y, _ = readcsv(\"results-2-100-10000.csv\"; header = true);"
   ]
  },
  {
   "cell_type": "code",
   "execution_count": 25,
   "metadata": {
    "collapsed": false
   },
   "outputs": [
    {
     "data": {
      "text/plain": [
       "true"
      ]
     },
     "execution_count": 25,
     "metadata": {},
     "output_type": "execute_result"
    }
   ],
   "source": [
    "y[:,1] == mean(x, 3)[1,:,1]"
   ]
  }
 ],
 "metadata": {
  "kernelspec": {
   "display_name": "Julia 0.5.0",
   "language": "julia",
   "name": "julia-0.5"
  },
  "language_info": {
   "file_extension": ".jl",
   "mimetype": "application/julia",
   "name": "julia",
   "version": "0.5.0"
  }
 },
 "nbformat": 4,
 "nbformat_minor": 2
}
